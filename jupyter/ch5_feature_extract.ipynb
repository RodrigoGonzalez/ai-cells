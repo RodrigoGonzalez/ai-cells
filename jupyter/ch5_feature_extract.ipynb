{
 "cells": [
  {
   "cell_type": "markdown",
   "metadata": {},
   "source": [
    "##### 通过降维压缩数据\n",
    "\n",
    "另一种 常 用于 降 维 的 特征 选择 方法 就是 特征 抽取。\n",
    "\n",
    "- 无 监督 数据 压缩—— 主 成分 分析\n",
    "- 基于 类别 可分 最大化 的 监督 降 维 技术—— 线性 判别 分析  LDA\n",
    "- 通过 核 主 成分 分析（ kernel principal component analysis） 进行 非线性 降 维\n",
    "\n",
    "\n",
    "在 尽可能 多 地保 持 相关 信息 的 情况下， 对数 据 进行 压缩 的 一种 方法。 特征 抽取 通常用于 提高 计算 效率， 同样 也可以 帮助 我们 降低“ 维 度 灾难”—— 尤其 当 模型 不 适于 正 则 化 处理 时。\n",
    "\n",
    "###### PCA\n",
    "\n",
    "是一 种 广泛 应用于 不同 领域 的 无 监督 线性 数据 转换 技术， 其 突出 作用 是 降 维。\n",
    "\n"
   ]
  },
  {
   "cell_type": "code",
   "execution_count": 1,
   "metadata": {
    "collapsed": true
   },
   "outputs": [],
   "source": [
    "import pandas as pd\n",
    "\n",
    "from sklearn.model_selection import train_test_split\n",
    "from sklearn.preprocessing import StandardScaler\n",
    "\n",
    "df_wine = pd.read_csv('https://archive.ics.uci.edu/ml/machine-learning-databases/wine/wine.data', header=None)\n",
    "df_wine.columns = [\n",
    "    'Class label', 'Alcohol', 'Malic acid', 'Ash', \n",
    "    'Alcalinity of ash', 'Magnesium', 'Total phenols', 'Flavanoids',\n",
    "    'Nonflavanoid phenols', 'Proanthocyanins', 'Color intensity', \n",
    "    'Hue', 'OD280/OD315 of diluted wines', 'Proline'\n",
    "]\n",
    "\n",
    "X = df_wine.iloc[:, 1:]\n",
    "y = df_wine.iloc[:, 0]\n",
    "\n",
    "X_train, X_test, y_train, y_test = train_test_split(X, y, test_size=0.3, random_state=42)\n",
    "\n",
    "sc = StandardScaler()"
   ]
  },
  {
   "cell_type": "code",
   "execution_count": 2,
   "metadata": {
    "collapsed": true
   },
   "outputs": [],
   "source": [
    "X_train_std = sc.fit_transform(X_train)\n",
    "X_test_std = sc.fit_transform(X_test)"
   ]
  },
  {
   "cell_type": "code",
   "execution_count": 3,
   "metadata": {},
   "outputs": [
    {
     "name": "stdout",
     "output_type": "stream",
     "text": [
      "Eigenvalues \n",
      "[ 4.74376552  2.45913372  1.5276711   0.99327678  0.92313257  0.59663887\n",
      "  0.46974164  0.09935613  0.17349645  0.34681782  0.23096439  0.25665489\n",
      "  0.28504118]\n"
     ]
    }
   ],
   "source": [
    "import numpy as np\n",
    "cov_mat = np.cov(X_train_std.T)\n",
    "eigen_vals, eigen_vecs = np.linalg.eig(cov_mat)\n",
    "print('Eigenvalues \\n%s' % eigen_vals)"
   ]
  },
  {
   "cell_type": "code",
   "execution_count": 4,
   "metadata": {},
   "outputs": [
    {
     "data": {
      "text/plain": [
       "array([[-0.13443023, -0.49571937,  0.12605367, -0.04624624, -0.32221478,\n",
       "        -0.12108437, -0.24715174,  0.02053618, -0.19383723, -0.51726172,\n",
       "        -0.2924713 ,  0.31043682, -0.22611951],\n",
       "       [ 0.25680248, -0.21988534, -0.08398481, -0.56428416,  0.18146701,\n",
       "         0.16951285, -0.60464068, -0.10406031,  0.08039695,  0.01884124,\n",
       "         0.2717176 , -0.20011018, -0.038156  ],\n",
       "       [ 0.0113463 , -0.25579499, -0.67171617,  0.14966332, -0.10436437,\n",
       "        -0.19927928, -0.10664983,  0.18793854, -0.04789087,  0.17894583,\n",
       "        -0.38128856, -0.41999396,  0.08630281],\n",
       "       [ 0.23405337,  0.09630359, -0.58764561,  0.00919969,  0.13809265,\n",
       "        -0.17513522,  0.18701632, -0.12520142, -0.04047926, -0.48861364,\n",
       "         0.37269425,  0.31581767,  0.10543504],\n",
       "       [-0.15840049, -0.26616487, -0.11734551,  0.52679936,  0.56500632,\n",
       "         0.31914517, -0.23196898, -0.07224125,  0.01601375,  0.13462195,\n",
       "         0.02016848,  0.2613263 , -0.21350905],\n",
       "       [-0.39194918, -0.06381624, -0.15444497, -0.26095189, -0.02330903,\n",
       "        -0.07048219,  0.15059567,  0.40186688, -0.42790355,  0.27271237,\n",
       "         0.39971449,  0.08962007, -0.36795405],\n",
       "       [-0.41607649, -0.00971648, -0.17404674, -0.20649548, -0.04544638,\n",
       "        -0.07041316,  0.1391898 , -0.81694022,  0.00426256,  0.13878451,\n",
       "        -0.09549685, -0.04669417, -0.17171338],\n",
       "       [ 0.27871336, -0.0275335 , -0.24065975, -0.02063026, -0.5151111 ,\n",
       "         0.64832705,  0.10447089, -0.05450617, -0.01817233,  0.2518194 ,\n",
       "        -0.04263467,  0.30952412, -0.04795213],\n",
       "       [-0.33129255, -0.0073265 , -0.07724329, -0.315633  ,  0.29267105,\n",
       "         0.53341622,  0.27803268,  0.17402593, -0.05645548, -0.37418664,\n",
       "        -0.26440161, -0.173039  ,  0.25252899],\n",
       "       [ 0.11383282, -0.54829944,  0.06523068, -0.0475105 ,  0.01186302,\n",
       "        -0.02846287,  0.48665512,  0.07175171,  0.56765236, -0.00999247,\n",
       "         0.1797596 , -0.14786034, -0.24588596],\n",
       "       [-0.29726413,  0.27616688, -0.08675172,  0.30623963, -0.33361312,\n",
       "         0.22342025, -0.23281547,  0.0367436 ,  0.24286221, -0.34892314,\n",
       "         0.31379574, -0.39578228, -0.28539284],\n",
       "       [-0.38054255,  0.15580423, -0.17043147, -0.20186583, -0.05658015,\n",
       "        -0.13399425, -0.22244261,  0.23287947,  0.61195577,  0.13470882,\n",
       "        -0.10469148,  0.45139221,  0.16998471],\n",
       "       [-0.27507157, -0.39269514,  0.08888266,  0.17851478, -0.21403151,\n",
       "         0.02996626, -0.04879138, -0.09828082, -0.0971428 ,  0.07836996,\n",
       "         0.41663235, -0.030606  ,  0.69391174]])"
      ]
     },
     "execution_count": 4,
     "metadata": {},
     "output_type": "execute_result"
    }
   ],
   "source": [
    "eigen_vecs"
   ]
  },
  {
   "cell_type": "code",
   "execution_count": 5,
   "metadata": {
    "collapsed": true
   },
   "outputs": [],
   "source": [
    "tot = sum(eigen_vals)\n",
    "var_exp = [(i / tot) for i in sorted(eigen_vals, reverse=True)]\n",
    "cum_var_exp = np.cumsum(var_exp)"
   ]
  },
  {
   "cell_type": "code",
   "execution_count": null,
   "metadata": {
    "collapsed": true
   },
   "outputs": [],
   "source": []
  }
 ],
 "metadata": {
  "kernelspec": {
   "display_name": "Python 3",
   "language": "python",
   "name": "python3"
  },
  "language_info": {
   "codemirror_mode": {
    "name": "ipython",
    "version": 3
   },
   "file_extension": ".py",
   "mimetype": "text/x-python",
   "name": "python",
   "nbconvert_exporter": "python",
   "pygments_lexer": "ipython3",
   "version": "3.5.3"
  }
 },
 "nbformat": 4,
 "nbformat_minor": 2
}
